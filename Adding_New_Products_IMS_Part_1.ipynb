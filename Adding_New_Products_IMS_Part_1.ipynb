{
  "nbformat": 4,
  "nbformat_minor": 0,
  "metadata": {
    "colab": {
      "name": "Adding New Products_IMS Part 1.ipynb",
      "provenance": [],
      "authorship_tag": "ABX9TyNi6Sk5w/9YNAkA4grAqdJ5",
      "include_colab_link": true
    },
    "kernelspec": {
      "name": "python3",
      "display_name": "Python 3"
    },
    "language_info": {
      "name": "python"
    }
  },
  "cells": [
    {
      "cell_type": "markdown",
      "metadata": {
        "id": "view-in-github",
        "colab_type": "text"
      },
      "source": [
        "<a href=\"https://colab.research.google.com/github/nafisamukhtar/Inventory_Management_Project/blob/main/Adding_New_Products_IMS_Part_1.ipynb\" target=\"_parent\"><img src=\"https://colab.research.google.com/assets/colab-badge.svg\" alt=\"Open In Colab\"/></a>"
      ]
    },
    {
      "cell_type": "code",
      "metadata": {
        "id": "73WSZf7iRlWH"
      },
      "source": [
        "fd=open(\"record.json\",\"r\")\n",
        "r=fd.read()\n",
        "fd.close()"
      ],
      "execution_count": 1,
      "outputs": []
    },
    {
      "cell_type": "code",
      "metadata": {
        "id": "_d27zW4aYY5h"
      },
      "source": [
        "import json"
      ],
      "execution_count": 2,
      "outputs": []
    },
    {
      "cell_type": "code",
      "metadata": {
        "id": "G9QgbS0rYSV5"
      },
      "source": [
        "record=json.loads(r)"
      ],
      "execution_count": 3,
      "outputs": []
    },
    {
      "cell_type": "code",
      "metadata": {
        "colab": {
          "base_uri": "https://localhost:8080/"
        },
        "id": "RZHW6U2_YVUn",
        "outputId": "e383c40a-8acf-44a5-fe68-2a60aaef47e3"
      },
      "source": [
        "record"
      ],
      "execution_count": 4,
      "outputs": [
        {
          "output_type": "execute_result",
          "data": {
            "text/plain": [
              "{'01': {'name': 'Milkibar', 'pr': 25, 'qn': 50},\n",
              " '02': {'name': 'Kitkat', 'pr': 15, 'qn': 100},\n",
              " '03': {'name': 'DairyMilk', 'pr': 100, 'qn': 150},\n",
              " '04': {'name': 'Munch', 'pr': 10, 'qn': 200},\n",
              " '05': {'name': 'Perk', 'pr': 5, 'qn': 125},\n",
              " '06': {'name': 'FiveStar', 'pr': 15, 'qn': 75},\n",
              " '07': {'name': 'DairyMilkShots', 'pr': 2, 'qn': 29},\n",
              " '08': {'name': 'CocaCola', 'pr': 50, 'qn': 30},\n",
              " '09': {'name': 'Pepsi', 'pr': 45, 'qn': 50},\n",
              " '10': {'name': 'Fanta', 'pr': 55, 'qn': 70},\n",
              " '11': {'name': 'MountainDew', 'pr': 40, 'qn': 60},\n",
              " '12': {'name': 'Limca', 'pr': 25, 'qn': 40},\n",
              " '13': {'name': 'Slice', 'pr': 35, 'qn': 60},\n",
              " '14': {'name': 'Oreo', 'pr': 30, 'qn': 115},\n",
              " '15': {'name': 'DarkFantasy', 'pr': 65, 'qn': 125},\n",
              " '16': {'name': 'KrackJack', 'pr': 40, 'qn': 100},\n",
              " '17': {'name': 'HappyHappy', 'pr': 30, 'qn': 125},\n",
              " '18': {'name': 'Tiger', 'pr': 15, 'qn': 200},\n",
              " '19': {'name': 'Goodday', 'pr': 50, 'qn': 135},\n",
              " '20': {'name': 'FiftyFifty', 'pr': 45, 'qn': 125},\n",
              " '21': {'name': 'NutriChoice', 'pr': 65, 'qn': 120},\n",
              " '22': {'name': 'MarieLite', 'pr': 25, 'qn': 140},\n",
              " '23': {'name': 'JimJam', 'pr': 20, 'qn': 85},\n",
              " '24': {'name': 'Sunfeast DreamCream', 'pr': 45, 'qn': 100},\n",
              " '25': {'name': 'Snickers', 'pr': 70, 'qn': 90},\n",
              " '26': {'name': 'Galaxy', 'pr': 40, 'qn': 80},\n",
              " '27': {'name': 'Bar One', 'pr': 85, 'qn': 225},\n",
              " '28': {'name': 'Gems', 'pr': 5, 'qn': 170},\n",
              " '29': {'name': 'Bournville', 'pr': 30, 'qn': 125},\n",
              " '30': {'name': 'Eclairs', 'pr': 2, 'qn': 100}}"
            ]
          },
          "metadata": {},
          "execution_count": 4
        }
      ]
    },
    {
      "cell_type": "markdown",
      "metadata": {
        "id": "Q2x7yAS2Y7bg"
      },
      "source": [
        "**Adding New Items To The Inventory**"
      ]
    },
    {
      "cell_type": "code",
      "metadata": {
        "colab": {
          "base_uri": "https://localhost:8080/"
        },
        "id": "xh2mRV1tY3_X",
        "outputId": "6078ae68-d89d-4696-9d8a-744b7ff8ad09"
      },
      "source": [
        "prod_id=str(input(\"Enter product ID : \"))\n",
        "name=str(input(\"Enter product name : \"))\n",
        "pr=int(input(\"Enter product price : \"))\n",
        "qn=int(input(\"Enter product quantity : \"))\n",
        "\n",
        "record[prod_id]= {'name':name,'price':pr,\"quantity\":qn}\n",
        "\n",
        "js = json.dumps(record)\n",
        "fd=open(\"record.json\",\"w\")\n",
        "fd.write(js)\n",
        "fd.close()"
      ],
      "execution_count": 17,
      "outputs": [
        {
          "name": "stdout",
          "output_type": "stream",
          "text": [
            "Enter product ID : 40\n",
            "Enter product name : milkshake\n",
            "Enter product price : 60\n",
            "Enter product quantity : 50\n"
          ]
        }
      ]
    },
    {
      "cell_type": "code",
      "metadata": {
        "colab": {
          "base_uri": "https://localhost:8080/"
        },
        "id": "YrDlhe7naxhm",
        "outputId": "02662956-ee0a-491b-aa3e-6c2a02c8ff36"
      },
      "source": [
        "record"
      ],
      "execution_count": 18,
      "outputs": [
        {
          "output_type": "execute_result",
          "data": {
            "text/plain": [
              "{'01': {'name': 'Milkibar', 'pr': 25, 'qn': 50},\n",
              " '02': {'name': 'Kitkat', 'pr': 15, 'qn': 100},\n",
              " '03': {'name': 'DairyMilk', 'pr': 100, 'qn': 150},\n",
              " '04': {'name': 'Munch', 'pr': 10, 'qn': 200},\n",
              " '05': {'name': 'Perk', 'pr': 5, 'qn': 125},\n",
              " '06': {'name': 'FiveStar', 'pr': 15, 'qn': 75},\n",
              " '07': {'name': 'DairyMilkShots', 'pr': 2, 'qn': 29},\n",
              " '08': {'name': 'CocaCola', 'pr': 50, 'qn': 30},\n",
              " '09': {'name': 'Pepsi', 'pr': 45, 'qn': 50},\n",
              " '10': {'name': 'Fanta', 'pr': 55, 'qn': 70},\n",
              " '11': {'name': 'MountainDew', 'pr': 40, 'qn': 60},\n",
              " '12': {'name': 'Limca', 'pr': 25, 'qn': 40},\n",
              " '13': {'name': 'Slice', 'pr': 35, 'qn': 60},\n",
              " '14': {'name': 'Oreo', 'pr': 30, 'qn': 115},\n",
              " '15': {'name': 'DarkFantasy', 'pr': 65, 'qn': 125},\n",
              " '16': {'name': 'KrackJack', 'pr': 40, 'qn': 100},\n",
              " '17': {'name': 'HappyHappy', 'pr': 30, 'qn': 125},\n",
              " '18': {'name': 'Tiger', 'pr': 15, 'qn': 200},\n",
              " '19': {'name': 'Goodday', 'pr': 50, 'qn': 135},\n",
              " '20': {'name': 'FiftyFifty', 'pr': 45, 'qn': 125},\n",
              " '21': {'name': 'NutriChoice', 'pr': 65, 'qn': 120},\n",
              " '22': {'name': 'MarieLite', 'pr': 25, 'qn': 140},\n",
              " '23': {'name': 'JimJam', 'pr': 20, 'qn': 85},\n",
              " '24': {'name': 'Sunfeast DreamCream', 'pr': 45, 'qn': 100},\n",
              " '25': {'name': 'Snickers', 'pr': 70, 'qn': 90},\n",
              " '26': {'name': 'Galaxy', 'pr': 40, 'qn': 80},\n",
              " '27': {'name': 'Bar One', 'pr': 85, 'qn': 225},\n",
              " '28': {'name': 'Gems', 'pr': 5, 'qn': 170},\n",
              " '29': {'name': 'Bournville', 'pr': 30, 'qn': 125},\n",
              " '30': {'name': 'Eclairs', 'pr': 2, 'qn': 100},\n",
              " '31': {'name': 'milkcake', 'price': 55, 'quantity': 100},\n",
              " '32': {'name': 'fortuneoil', 'price': 25, 'quantity': 10},\n",
              " '33': {'name': 'oats', 'price': 75, 'quantity': 100},\n",
              " '34': {'name': 'vanillaicecream', 'price': 10, 'quantity': 50},\n",
              " '35': {'name': 'chocobar', 'price': 25, 'quantity': 100},\n",
              " '36': {'name': 'badammix', 'price': 45, 'quantity': 100},\n",
              " '37': {'name': 'paperboat', 'price': 80, 'quantity': 100},\n",
              " '38': {'name': 'jam', 'price': 25, 'quantity': 100},\n",
              " '39': {'name': 'ketchup', 'price': 70, 'quantity': 50},\n",
              " '40': {'name': 'milkshake', 'price': 60, 'quantity': 50}}"
            ]
          },
          "metadata": {},
          "execution_count": 18
        }
      ]
    }
  ]
}