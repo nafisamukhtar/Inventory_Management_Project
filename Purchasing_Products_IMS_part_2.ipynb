{
  "nbformat": 4,
  "nbformat_minor": 0,
  "metadata": {
    "colab": {
      "name": "Purchasing Products_IMS part 2.ipynb",
      "provenance": [],
      "authorship_tag": "ABX9TyPS4Qlr/4xQXPH4eFhNCf4n",
      "include_colab_link": true
    },
    "kernelspec": {
      "name": "python3",
      "display_name": "Python 3"
    },
    "language_info": {
      "name": "python"
    }
  },
  "cells": [
    {
      "cell_type": "markdown",
      "metadata": {
        "id": "view-in-github",
        "colab_type": "text"
      },
      "source": [
        "<a href=\"https://colab.research.google.com/github/nafisamukhtar/Inventory_Management_Project/blob/main/Purchasing_Products_IMS_part_2.ipynb\" target=\"_parent\"><img src=\"https://colab.research.google.com/assets/colab-badge.svg\" alt=\"Open In Colab\"/></a>"
      ]
    },
    {
      "cell_type": "markdown",
      "metadata": {
        "id": "yDbMdITacLio"
      },
      "source": [
        "**Read Inventory**"
      ]
    },
    {
      "cell_type": "code",
      "metadata": {
        "id": "urmdosDUblyn"
      },
      "source": [
        "fd=open(\"record.json\",\"r\")\n",
        "r=fd.read()\n",
        "fd.close()"
      ],
      "execution_count": 1,
      "outputs": []
    },
    {
      "cell_type": "code",
      "metadata": {
        "id": "87Ih-DuJcClb"
      },
      "source": [
        "import json"
      ],
      "execution_count": 2,
      "outputs": []
    },
    {
      "cell_type": "code",
      "metadata": {
        "id": "4S-rcgxNcEOF"
      },
      "source": [
        "records=json.loads(r)"
      ],
      "execution_count": 3,
      "outputs": []
    },
    {
      "cell_type": "code",
      "metadata": {
        "colab": {
          "base_uri": "https://localhost:8080/"
        },
        "id": "7o33PzwYcOfg",
        "outputId": "9f34beb4-758c-47ff-869c-06bfe172a248"
      },
      "source": [
        "records"
      ],
      "execution_count": 4,
      "outputs": [
        {
          "output_type": "execute_result",
          "data": {
            "text/plain": [
              "{'01': {'name': 'Milkibar', 'pr': 25, 'qn': 50},\n",
              " '02': {'name': 'Kitkat', 'pr': 15, 'qn': 100},\n",
              " '03': {'name': 'DairyMilk', 'pr': 100, 'qn': 150},\n",
              " '04': {'name': 'Munch', 'pr': 10, 'qn': 200},\n",
              " '05': {'name': 'Perk', 'pr': 5, 'qn': 125},\n",
              " '06': {'name': 'FiveStar', 'pr': 15, 'qn': 75},\n",
              " '07': {'name': 'DairyMilkShots', 'pr': 2, 'qn': 29},\n",
              " '08': {'name': 'CocaCola', 'pr': 50, 'qn': 30},\n",
              " '09': {'name': 'Pepsi', 'pr': 45, 'qn': 50},\n",
              " '10': {'name': 'Fanta', 'pr': 55, 'qn': 70},\n",
              " '11': {'name': 'MountainDew', 'pr': 40, 'qn': 60},\n",
              " '12': {'name': 'Limca', 'pr': 25, 'qn': 40},\n",
              " '13': {'name': 'Slice', 'pr': 35, 'qn': 60},\n",
              " '14': {'name': 'Oreo', 'pr': 30, 'qn': 115},\n",
              " '15': {'name': 'DarkFantasy', 'pr': 65, 'qn': 125},\n",
              " '16': {'name': 'KrackJack', 'pr': 40, 'qn': 100},\n",
              " '17': {'name': 'HappyHappy', 'pr': 30, 'qn': 125},\n",
              " '18': {'name': 'Tiger', 'pr': 15, 'qn': 200},\n",
              " '19': {'name': 'Goodday', 'pr': 50, 'qn': 135},\n",
              " '20': {'name': 'FiftyFifty', 'pr': 45, 'qn': 125},\n",
              " '21': {'name': 'NutriChoice', 'pr': 65, 'qn': 120},\n",
              " '22': {'name': 'MarieLite', 'pr': 25, 'qn': 140},\n",
              " '23': {'name': 'JimJam', 'pr': 20, 'qn': 85},\n",
              " '24': {'name': 'Sunfeast DreamCream', 'pr': 45, 'qn': 100},\n",
              " '25': {'name': 'Snickers', 'pr': 70, 'qn': 90},\n",
              " '26': {'name': 'Galaxy', 'pr': 40, 'qn': 80},\n",
              " '27': {'name': 'Bar One', 'pr': 85, 'qn': 225},\n",
              " '28': {'name': 'Gems', 'pr': 5, 'qn': 170},\n",
              " '29': {'name': 'Bournville', 'pr': 30, 'qn': 125},\n",
              " '30': {'name': 'Eclairs', 'pr': 2, 'qn': 100}}"
            ]
          },
          "metadata": {},
          "execution_count": 4
        }
      ]
    },
    {
      "cell_type": "markdown",
      "metadata": {
        "id": "D2UQnGptcf0q"
      },
      "source": [
        "**Buy Products**"
      ]
    },
    {
      "cell_type": "code",
      "metadata": {
        "colab": {
          "base_uri": "https://localhost:8080/"
        },
        "id": "8h_RJw4OcQpU",
        "outputId": "795ae548-f801-4310-9c72-5346987c985f"
      },
      "source": [
        "ui_prod = str(input(\"Enter the product ID : \"))\n",
        "ui_quant = int(input(\"Enter the quantity : \"))\n",
        "print(\"Product : \",records[ui_prod]['name'])\n",
        "print(\"Price : \",records[ui_prod]['pr'])\n",
        "print(\"Amount : \",records[ui_prod]['pr']*ui_quant)\n",
        "records[ui_prod]['qn'] = records[ui_prod]['qn'] - ui_quant"
      ],
      "execution_count": 5,
      "outputs": [
        {
          "output_type": "stream",
          "name": "stdout",
          "text": [
            "Enter the product ID : 20\n",
            "Enter the quantity : 10\n",
            "Product :  FiftyFifty\n",
            "Price :  45\n",
            "Amount :  450\n"
          ]
        }
      ]
    },
    {
      "cell_type": "markdown",
      "metadata": {
        "id": "5Q7aMrSbdLaE"
      },
      "source": [
        "**Update Inventory After Purchase**\n"
      ]
    },
    {
      "cell_type": "code",
      "metadata": {
        "id": "_GSdbtbQc4IK"
      },
      "source": [
        "js = json.dumps(records)\n",
        "fd=open(\"record.json\",\"w\")\n",
        "fd.write(js)\n",
        "fd.close()"
      ],
      "execution_count": 6,
      "outputs": []
    },
    {
      "cell_type": "markdown",
      "metadata": {
        "id": "yBV0ufPMu-Qn"
      },
      "source": [
        "**Sales JSON**"
      ]
    },
    {
      "cell_type": "code",
      "metadata": {
        "colab": {
          "base_uri": "https://localhost:8080/"
        },
        "id": "rG7ED7Adu9g9",
        "outputId": "3ec94eaa-1073-4b6f-ae0d-dc00a549951a"
      },
      "source": [
        "{'Product':ui_prod,\"Quantity\":ui_quant,\"Amount\":records[ui_prod]['pr']*ui_quant}"
      ],
      "execution_count": 7,
      "outputs": [
        {
          "output_type": "execute_result",
          "data": {
            "text/plain": [
              "{'Amount': 450, 'Product': '20', 'Quantity': 10}"
            ]
          },
          "metadata": {},
          "execution_count": 7
        }
      ]
    },
    {
      "cell_type": "code",
      "metadata": {
        "id": "VjBugCKBvGJO"
      },
      "source": [
        "sales={1:{\"Product\":ui_prod,\"Quantity\":ui_quant,\"Amount\":records[ui_prod]['pr']*ui_quant},\n",
        "      2:{\"Product\":ui_prod,\"Quantity\":ui_quant,\"Amount\":records[ui_prod]['pr']*ui_quant},\n",
        "      3:{\"Product\":ui_prod,\"Quantity\":ui_quant,\"Amount\":records[ui_prod]['pr']*ui_quant}}"
      ],
      "execution_count": 8,
      "outputs": []
    },
    {
      "cell_type": "code",
      "metadata": {
        "colab": {
          "base_uri": "https://localhost:8080/",
          "height": 52
        },
        "id": "3MjPRvBlvNMV",
        "outputId": "50a52d9d-308e-450b-c88a-b1e6e85631b8"
      },
      "source": [
        "json.dumps(sales)"
      ],
      "execution_count": 9,
      "outputs": [
        {
          "output_type": "execute_result",
          "data": {
            "application/vnd.google.colaboratory.intrinsic+json": {
              "type": "string"
            },
            "text/plain": [
              "'{\"1\": {\"Product\": \"20\", \"Quantity\": 10, \"Amount\": 450}, \"2\": {\"Product\": \"20\", \"Quantity\": 10, \"Amount\": 450}, \"3\": {\"Product\": \"20\", \"Quantity\": 10, \"Amount\": 450}}'"
            ]
          },
          "metadata": {},
          "execution_count": 9
        }
      ]
    },
    {
      "cell_type": "code",
      "metadata": {
        "id": "cS2OQL9-vYnZ"
      },
      "source": [
        "fd=open(\"record.json\",\"r\")\n",
        "r=fd.read()\n",
        "fd.close()"
      ],
      "execution_count": 10,
      "outputs": []
    },
    {
      "cell_type": "code",
      "metadata": {
        "colab": {
          "base_uri": "https://localhost:8080/"
        },
        "id": "IWEqnjhzvZJc",
        "outputId": "5210ed3c-74e1-492b-fb4c-b91dfcc5fc27"
      },
      "source": [
        "{(len(sales)+1) : {'Product':ui_prod,\"Quantity\":ui_quant,\"Amount\":records[ui_prod]['pr']*ui_quant}}"
      ],
      "execution_count": 11,
      "outputs": [
        {
          "output_type": "execute_result",
          "data": {
            "text/plain": [
              "{4: {'Amount': 450, 'Product': '20', 'Quantity': 10}}"
            ]
          },
          "metadata": {},
          "execution_count": 11
        }
      ]
    },
    {
      "cell_type": "code",
      "metadata": {
        "id": "KOJght-dvcPP"
      },
      "source": [
        "sales[(len(sales)+1)] = {'Product':ui_prod,\"Quantity\":ui_quant,\"Amount\":records[ui_prod]['pr']*ui_quant}"
      ],
      "execution_count": 12,
      "outputs": []
    },
    {
      "cell_type": "code",
      "metadata": {
        "id": "yrx7mwMdvi1x"
      },
      "source": [
        "sale=json.dumps(sales)"
      ],
      "execution_count": 13,
      "outputs": []
    },
    {
      "cell_type": "code",
      "metadata": {
        "id": "3mOJ4VrhvmIl"
      },
      "source": [
        "fd=open(\"sales.json\",\"w\")\n",
        "r=fd.write(sale)\n",
        "fd.close()"
      ],
      "execution_count": 14,
      "outputs": []
    }
  ]
}